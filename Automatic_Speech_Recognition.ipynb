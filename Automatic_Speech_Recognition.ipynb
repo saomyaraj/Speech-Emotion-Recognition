{
  "nbformat": 4,
  "nbformat_minor": 0,
  "metadata": {
    "colab": {
      "provenance": []
    },
    "kernelspec": {
      "name": "python3",
      "display_name": "Python 3"
    },
    "language_info": {
      "name": "python"
    }
  },
  "cells": [
    {
      "cell_type": "markdown",
      "source": [
        "# Workflow of Training\n",
        "- Importing Libraries : Numpy, Pandas, Matplotlib, Seaborn, Os, Sys, Scikit-Learn, Ipython, Keras, Librosa\n",
        "- Prepare the data : Set the path of the data into dataset folder and create the dataframe for each type of data.\n",
        "- Visualize the data : Graph of emotions, waveplots and spectrograms of audio signals\n",
        "- Data Augmentation : Simple Audio, Noise Injection, Stretching, Shifting, Pitch\n",
        "- Feature Extraction : There are many but I'll use, Zero Crossing Rate, Chroma_stft, MFCC, RMS, MeISpectrogram to train our model.\n",
        "- Prepare the data : Split the training and testing data and normalize it.\n",
        "- Modelling : Convolution Model, ReLU, Flatten, Output activation - Softmax.\n",
        "- Training : Optimizer-Adam, Loss-Categorical Crossentropy, Metrics-Accuracy, Epochs, learning rate and using ReduceLROnPlateau\n",
        "- Report : Confusion-Matrix\n",
        "corelation matrix like angry with sad. how one emotion is corelated with other one"
      ],
      "metadata": {
        "id": "WBpNms5Tkx0S"
      }
    },
    {
      "cell_type": "markdown",
      "source": [
        "# Importing Libraries"
      ],
      "metadata": {
        "id": "uffVjJX6lwYi"
      }
    },
    {
      "cell_type": "code",
      "source": [
        "# Importing Basic Libraries\n",
        "\n",
        "import numpy as np\n",
        "import pandas as pd\n",
        "import matplotlib.pyplot as plt\n",
        "import seaborn as sb\n",
        "import os\n",
        "import sys"
      ],
      "metadata": {
        "id": "Q674fzN5l1eW"
      },
      "execution_count": null,
      "outputs": []
    },
    {
      "cell_type": "code",
      "source": [
        "# Importing ML Libraries\n",
        "\n",
        "from sklearn.preprocessing import StandardScaler, OneHotEncoder\n",
        "from sklearn.metrics import confusion_matrix, classification_report\n",
        "from sklearn.model_selection import train_test_split\n",
        "\n",
        "import keras\n",
        "from keras.callbacks import ReduceLROnPlateau\n",
        "from keras.model import Sequential\n",
        "from keras.layers import Dense, Conv1D, MaxPooling1D, Flatten, Dropout, BatchNormalization\n",
        "from keras.utils import np_utils, to_categorical\n",
        "from keras.callbacks import ModelCheckpoint"
      ],
      "metadata": {
        "id": "GhbYK4wVoPfV"
      },
      "execution_count": null,
      "outputs": []
    },
    {
      "cell_type": "code",
      "source": [
        "#Importing Librosa for audio processing\n",
        "\n",
        "import librosa\n",
        "import librosa.display\n",
        "from IPython.display for Audio"
      ],
      "metadata": {
        "id": "vx-YI76epOPu"
      },
      "execution_count": null,
      "outputs": []
    },
    {
      "cell_type": "code",
      "source": [
        "import warnings\n",
        "if not sys.warnings:\n",
        "  warnings.simplefilter(\"ignore\")\n",
        "warnings.filterwarnings(\"ignore\", category=DeprecationWarning)"
      ],
      "metadata": {
        "id": "pZ2HbAvlpcAJ"
      },
      "execution_count": null,
      "outputs": []
    },
    {
      "cell_type": "markdown",
      "source": [
        "# Preparing the data"
      ],
      "metadata": {
        "id": "Z4sUDdfeqWcA"
      }
    },
    {
      "cell_type": "code",
      "source": [
        "import zipfile\n",
        "import shutil\n",
        "\n",
        "# Paths to the zip file and destination folder\n",
        "zip_file_path = \"archive.zip\"\n",
        "dest_folders = {\n",
        "    \"Crema\": \"archive/Crema\",\n",
        "    \"Ravdess\": \"archive/Ravdess\",\n",
        "    \"Savee\": \"archive/Savee\",\n",
        "    \"Tess\": \"archive/Tess\"\n",
        "}\n",
        "\n",
        "# Extract the contents of the zip file\n",
        "with zipfile.ZipFile(zip_file_path, 'r') as zip_ref:\n",
        "  zip_ref.extractall(\"archive\")\n",
        "\n",
        "# Move file to their respective folders\n",
        "for folder_name, dest_path in dest_folders.items():\n",
        "  if not os.path.exists(dest_path):\n",
        "    os.makedirs(dest_path)\n",
        "  for filename in os.listdir(\"archive\"):\n",
        "    if filename.startswith(folder_name):\n",
        "      src = os.path.join(\"archive\", filename)\n",
        "      dest  = os.path.join(dest_path, filename)\n",
        "      shutil.move(src, dest)\n",
        "\n",
        "print(\"Extraction and sorting completed successfully\")"
      ],
      "metadata": {
        "id": "ad1e0PJQqZP6"
      },
      "execution_count": null,
      "outputs": []
    },
    {
      "cell_type": "code",
      "source": [],
      "metadata": {
        "id": "PZAXx7pit8zg"
      },
      "execution_count": null,
      "outputs": []
    }
  ]
}